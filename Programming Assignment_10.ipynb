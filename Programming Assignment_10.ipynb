{
 "cells": [
  {
   "cell_type": "code",
   "execution_count": null,
   "id": "c110d2b7",
   "metadata": {},
   "outputs": [],
   "source": [
    "#1. Write a Python program to find sum of elements in list?\n",
    "total = 0\n",
    "  \n",
    "# creating a list\n",
    "list1 = [11, 5, 17, 18, 23]\n",
    "  \n",
    "# Iterate each element in list\n",
    "# and add them in variable total\n",
    "for ele in range(0, len(list1)):\n",
    "    total = total + list1[ele]\n",
    "  \n",
    "# printing total value\n",
    "print(\"Sum of all elements in given list: \", total)\n"
   ]
  },
  {
   "cell_type": "code",
   "execution_count": null,
   "id": "bf4955b1",
   "metadata": {},
   "outputs": [],
   "source": [
    "#2. Write a Python program to Multiply all numbers in the list?\n",
    "def multiplyList(myList):\n",
    " \n",
    "    # Multiply elements one by one\n",
    "    result = 1\n",
    "    for x in myList:\n",
    "        result = result * x\n",
    "    return result\n",
    " \n",
    " \n",
    "# Driver code\n",
    "list1 = [1, 2, 3]\n",
    "list2 = [3, 2, 4]\n",
    "print(multiplyList(list1))\n",
    "print(multiplyList(list2))"
   ]
  },
  {
   "cell_type": "code",
   "execution_count": null,
   "id": "406a8dde",
   "metadata": {},
   "outputs": [],
   "source": [
    "#3. Write a Python program to find smallest number in a list?\n",
    "list1 = [10, 20, 4, 45, 99]\n",
    " \n",
    "# sorting the list\n",
    "list1.sort()\n",
    " \n",
    "# printing the first element\n",
    "print(\"Smallest element is:\", list1[0])"
   ]
  },
  {
   "cell_type": "code",
   "execution_count": null,
   "id": "77ae1c71",
   "metadata": {},
   "outputs": [],
   "source": [
    "#4. Write a Python program to find largest number in a list?\n",
    "list1 = [10, 20, 4, 45, 99]\n",
    " \n",
    "# sorting the list\n",
    "list1.sort()\n",
    " \n",
    "# printing the last element\n",
    "print(\"Largest element is:\", list1[-1])"
   ]
  },
  {
   "cell_type": "code",
   "execution_count": null,
   "id": "bb200949",
   "metadata": {},
   "outputs": [],
   "source": [
    "#5. Write a Python program to find second largest number in a list?\n",
    "list1 = [10, 20, 4, 45, 99]\n",
    " \n",
    "mx = max(list1[0], list1[1])\n",
    "secondmax = min(list1[0], list1[1])\n",
    "n = len(list1)\n",
    "for i in range(2,n):\n",
    "    if list1[i] > mx:\n",
    "        secondmax = mx\n",
    "        mx = list1[i]\n",
    "    elif list1[i] > secondmax and \\\n",
    "        mx != list1[i]:\n",
    "        secondmax = list1[i]\n",
    "    elif mx == secondmax and \\\n",
    "        secondmax != list1[i]:\n",
    "          secondmax = list1[i]\n",
    " \n",
    "print(\"Second highest number is : \",\\\n",
    "      str(secondmax))"
   ]
  },
  {
   "cell_type": "code",
   "execution_count": null,
   "id": "e84101fd",
   "metadata": {},
   "outputs": [],
   "source": [
    "#6. Write a Python program to find N largest elements from a list?\n",
    "def Nmaxelements(list1, N):\n",
    "    final_list = []\n",
    " \n",
    "    for i in range(0, N):\n",
    "        max1 = 0\n",
    " \n",
    "        for j in range(len(list1)):\n",
    "            if list1[j] > max1:\n",
    "                max1 = list1[j]\n",
    " \n",
    "        list1.remove(max1)\n",
    "        final_list.append(max1)\n",
    " \n",
    "    print(final_list)\n",
    " \n",
    " \n",
    "# Driver code\n",
    "list1 = [2, 6, 41, 85, 0, 3, 7, 6, 10]\n",
    "N = 2\n",
    " \n",
    "# Calling the function\n",
    "Nmaxelements(list1, N)"
   ]
  },
  {
   "cell_type": "code",
   "execution_count": null,
   "id": "4221ff1a",
   "metadata": {},
   "outputs": [],
   "source": [
    "#7. Write a Python program to print even numbers in a list?\n",
    "# iterating each number in list\n",
    "for num in list1:\n",
    " \n",
    "    # checking condition\n",
    "    if num % 2 == 0:\n",
    "        print(num, end=\" \")"
   ]
  },
  {
   "cell_type": "code",
   "execution_count": null,
   "id": "3d300cc1",
   "metadata": {},
   "outputs": [],
   "source": [
    "8. Write a Python program to print odd numbers in a List?\n",
    "# list of numbers\n",
    "list1 = [10, 21, 4, 45, 66, 93]\n",
    " \n",
    "# iterating each number in list\n",
    "for num in list1:\n",
    " \n",
    "    # checking condition\n",
    "    if num % 2 != 0:\n",
    "       print(num, end=\" \")"
   ]
  },
  {
   "cell_type": "code",
   "execution_count": null,
   "id": "1672dcbb",
   "metadata": {},
   "outputs": [],
   "source": [
    "#9. Write a Python program to Remove empty List from List?\n",
    "test_list = [5, 6, [], 3, [], [], 9]\n",
    " \n",
    "# printing original list\n",
    "print(\"The original list is : \" + str(test_list))\n",
    " \n",
    "# Remove empty List from List\n",
    "# using list comprehension\n",
    "res = [ele for ele in test_list if ele != []]\n",
    " \n",
    "# printing result\n",
    "print(\"List after empty list removal : \" + str(res))\n"
   ]
  },
  {
   "cell_type": "code",
   "execution_count": null,
   "id": "3c1095f0",
   "metadata": {},
   "outputs": [],
   "source": [
    "#10. Write a Python program to Cloning or Copying a list?\n",
    "def Cloning(li1):\n",
    "    li_copy = li1[:]\n",
    "    return li_copy\n",
    " \n",
    " \n",
    "# Driver Code\n",
    "li1 = [4, 8, 2, 10, 15, 18]\n",
    "li2 = Cloning(li1)\n",
    "print(\"Original List:\", li1)\n",
    "print(\"After Cloning:\", li2)"
   ]
  },
  {
   "cell_type": "code",
   "execution_count": null,
   "id": "228d99dd",
   "metadata": {},
   "outputs": [],
   "source": [
    "#11. Write a Python program to Count occurrences of an element in a list?\n",
    "\n",
    "import operator as op\n",
    " \n",
    "# declaring the list\n",
    "l = [1, 1, 2, 2, 2, 3, 3, 4, 4, 5, 5]\n",
    " \n",
    "# driver program\n",
    "x = 2\n",
    "print(f\"{x} has occurred {op.countOf(l, x)} times\")"
   ]
  }
 ],
 "metadata": {
  "kernelspec": {
   "display_name": "Python 3",
   "language": "python",
   "name": "python3"
  },
  "language_info": {
   "codemirror_mode": {
    "name": "ipython",
    "version": 3
   },
   "file_extension": ".py",
   "mimetype": "text/x-python",
   "name": "python",
   "nbconvert_exporter": "python",
   "pygments_lexer": "ipython3",
   "version": "3.8.8"
  }
 },
 "nbformat": 4,
 "nbformat_minor": 5
}
