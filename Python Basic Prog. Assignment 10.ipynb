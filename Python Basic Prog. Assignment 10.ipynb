{
 "cells": [
  {
   "cell_type": "code",
   "execution_count": null,
   "id": "ed73c495",
   "metadata": {},
   "outputs": [],
   "source": [
    "1. Write a Python program to find sum of elements in list?"
   ]
  },
  {
   "cell_type": "code",
   "execution_count": 1,
   "id": "06b07628",
   "metadata": {},
   "outputs": [
    {
     "name": "stdout",
     "output_type": "stream",
     "text": [
      "30\n"
     ]
    }
   ],
   "source": [
    "a = [2, 4, 5, 6, 7, 6]\n",
    "print(sum(a))"
   ]
  },
  {
   "cell_type": "code",
   "execution_count": null,
   "id": "e09a960e",
   "metadata": {},
   "outputs": [],
   "source": [
    "2. Write a Python program to Multiply all numbers in the list?"
   ]
  },
  {
   "cell_type": "code",
   "execution_count": 3,
   "id": "6a7109d3",
   "metadata": {},
   "outputs": [
    {
     "data": {
      "text/plain": [
       "10080"
      ]
     },
     "execution_count": 3,
     "metadata": {},
     "output_type": "execute_result"
    }
   ],
   "source": [
    "from functools import reduce\n",
    "a = [2, 4, 5, 6, 7, 6]\n",
    "reduce(lambda x, y:x*y, a)"
   ]
  },
  {
   "cell_type": "code",
   "execution_count": 5,
   "id": "15857329",
   "metadata": {},
   "outputs": [
    {
     "name": "stdout",
     "output_type": "stream",
     "text": [
      "10080\n"
     ]
    }
   ],
   "source": [
    "x = 1\n",
    "for i in a:\n",
    "    x = x*i\n",
    "print(x)   "
   ]
  },
  {
   "cell_type": "code",
   "execution_count": null,
   "id": "e4a8a2ea",
   "metadata": {},
   "outputs": [],
   "source": [
    "3. Write a Python program to find smallest number in a list?"
   ]
  },
  {
   "cell_type": "code",
   "execution_count": 6,
   "id": "2c4872b1",
   "metadata": {},
   "outputs": [
    {
     "name": "stdout",
     "output_type": "stream",
     "text": [
      "2\n"
     ]
    }
   ],
   "source": [
    "print(min(a))"
   ]
  },
  {
   "cell_type": "code",
   "execution_count": 19,
   "id": "2dacd6f3",
   "metadata": {},
   "outputs": [
    {
     "name": "stdout",
     "output_type": "stream",
     "text": [
      "2\n"
     ]
    }
   ],
   "source": [
    "a.sort()\n",
    "print(a[0])"
   ]
  },
  {
   "cell_type": "code",
   "execution_count": null,
   "id": "8067d4a7",
   "metadata": {},
   "outputs": [],
   "source": [
    "4. Write a Python program to find largest number in a list?"
   ]
  },
  {
   "cell_type": "code",
   "execution_count": 20,
   "id": "6956c9fd",
   "metadata": {},
   "outputs": [],
   "source": [
    "a = [12, 34, 23, 5, 9, 19, 56, 2, 20]"
   ]
  },
  {
   "cell_type": "markdown",
   "id": "545fb576",
   "metadata": {},
   "source": [
    "method 1"
   ]
  },
  {
   "cell_type": "code",
   "execution_count": 21,
   "id": "dbfbff0d",
   "metadata": {},
   "outputs": [
    {
     "data": {
      "text/plain": [
       "56"
      ]
     },
     "execution_count": 21,
     "metadata": {},
     "output_type": "execute_result"
    }
   ],
   "source": [
    "max(a)"
   ]
  },
  {
   "cell_type": "markdown",
   "id": "b8797dcb",
   "metadata": {},
   "source": [
    "method 2"
   ]
  },
  {
   "cell_type": "code",
   "execution_count": 23,
   "id": "cf9f0829",
   "metadata": {},
   "outputs": [
    {
     "name": "stdout",
     "output_type": "stream",
     "text": [
      "56\n"
     ]
    }
   ],
   "source": [
    "a.sort()\n",
    "print(a[-1])"
   ]
  },
  {
   "cell_type": "code",
   "execution_count": null,
   "id": "551d6abf",
   "metadata": {},
   "outputs": [],
   "source": [
    "5. Write a Python program to find second largest number in a list?"
   ]
  },
  {
   "cell_type": "code",
   "execution_count": 58,
   "id": "5e4e5bda",
   "metadata": {},
   "outputs": [],
   "source": [
    "list = [34, 23, 45, 34, 90, 34, 23, 5, 39, 97]"
   ]
  },
  {
   "cell_type": "code",
   "execution_count": 25,
   "id": "ba294f0d",
   "metadata": {},
   "outputs": [],
   "source": [
    "list.sort()"
   ]
  },
  {
   "cell_type": "code",
   "execution_count": 28,
   "id": "e3247b7b",
   "metadata": {},
   "outputs": [
    {
     "data": {
      "text/plain": [
       "90"
      ]
     },
     "execution_count": 28,
     "metadata": {},
     "output_type": "execute_result"
    }
   ],
   "source": [
    "list[-2]"
   ]
  },
  {
   "cell_type": "code",
   "execution_count": null,
   "id": "6954a4bc",
   "metadata": {},
   "outputs": [],
   "source": [
    "6. Write a Python program to find N largest elements from a list?"
   ]
  },
  {
   "cell_type": "code",
   "execution_count": 31,
   "id": "10880198",
   "metadata": {},
   "outputs": [],
   "source": [
    "def N_largest(l, n_largest):\n",
    "    l.sort()\n",
    "    print(l[-(n_largest)])"
   ]
  },
  {
   "cell_type": "code",
   "execution_count": null,
   "id": "0859825b",
   "metadata": {},
   "outputs": [],
   "source": [
    "7. Write a Python program to print even numbers in a list?"
   ]
  },
  {
   "cell_type": "code",
   "execution_count": 34,
   "id": "da51e6c2",
   "metadata": {},
   "outputs": [
    {
     "data": {
      "text/plain": [
       "[5, 23, 23, 34, 34, 34, 39, 45, 90, 97]"
      ]
     },
     "execution_count": 34,
     "metadata": {},
     "output_type": "execute_result"
    }
   ],
   "source": [
    "list"
   ]
  },
  {
   "cell_type": "code",
   "execution_count": 41,
   "id": "6478a491",
   "metadata": {},
   "outputs": [
    {
     "name": "stdout",
     "output_type": "stream",
     "text": [
      "[34, 34, 34, 90]\n"
     ]
    }
   ],
   "source": [
    "even_list = []\n",
    "for i in list:\n",
    "    if i % 2 == 0:\n",
    "        even_list.append(i)\n",
    "print(even_list)"
   ]
  },
  {
   "cell_type": "code",
   "execution_count": 42,
   "id": "def087b4",
   "metadata": {},
   "outputs": [
    {
     "data": {
      "text/plain": [
       "[34, 34, 34, 90]"
      ]
     },
     "execution_count": 42,
     "metadata": {},
     "output_type": "execute_result"
    }
   ],
   "source": [
    "[i for i in list if i%2 == 0 ]"
   ]
  },
  {
   "cell_type": "code",
   "execution_count": null,
   "id": "bbe4adc3",
   "metadata": {},
   "outputs": [],
   "source": [
    "8. Write a Python program to print odd numbers in a List?"
   ]
  },
  {
   "cell_type": "code",
   "execution_count": 43,
   "id": "dd373ac6",
   "metadata": {},
   "outputs": [
    {
     "name": "stdout",
     "output_type": "stream",
     "text": [
      "[5, 23, 23, 39, 45, 97]\n"
     ]
    }
   ],
   "source": [
    "even_list = []\n",
    "for i in list:\n",
    "    if i % 2 == 1:\n",
    "        even_list.append(i)\n",
    "print(even_list)"
   ]
  },
  {
   "cell_type": "code",
   "execution_count": 44,
   "id": "dcb27073",
   "metadata": {},
   "outputs": [
    {
     "data": {
      "text/plain": [
       "[5, 23, 23, 39, 45, 97]"
      ]
     },
     "execution_count": 44,
     "metadata": {},
     "output_type": "execute_result"
    }
   ],
   "source": [
    "[i for i in list if i%2 == 1 ]"
   ]
  },
  {
   "cell_type": "code",
   "execution_count": null,
   "id": "63b162cf",
   "metadata": {},
   "outputs": [],
   "source": [
    "9. Write a Python program to Remove empty List from List?"
   ]
  },
  {
   "cell_type": "code",
   "execution_count": 45,
   "id": "f602bfde",
   "metadata": {},
   "outputs": [],
   "source": [
    "list = [['Hello', 1, 3], ['Hi', 2], [], [23, 2], [], ['go', True]]"
   ]
  },
  {
   "cell_type": "code",
   "execution_count": 46,
   "id": "7d2c3c9c",
   "metadata": {},
   "outputs": [],
   "source": [
    "for i in list:\n",
    "    if len(i) == 0:\n",
    "        list.remove(i)"
   ]
  },
  {
   "cell_type": "code",
   "execution_count": 47,
   "id": "90d850ee",
   "metadata": {},
   "outputs": [
    {
     "data": {
      "text/plain": [
       "[['Hello', 1, 3], ['Hi', 2], [23, 2], ['go', True]]"
      ]
     },
     "execution_count": 47,
     "metadata": {},
     "output_type": "execute_result"
    }
   ],
   "source": [
    "list"
   ]
  },
  {
   "cell_type": "code",
   "execution_count": null,
   "id": "60fe0025",
   "metadata": {},
   "outputs": [],
   "source": [
    "10. Write a Python program to Cloning or Copying a list?"
   ]
  },
  {
   "cell_type": "code",
   "execution_count": 52,
   "id": "d6669dbe",
   "metadata": {},
   "outputs": [],
   "source": [
    "original_list = [34, 23, 45, 34, 90, 34, 23, 5, 39, 97]"
   ]
  },
  {
   "cell_type": "code",
   "execution_count": 50,
   "id": "fb1ecee9",
   "metadata": {},
   "outputs": [],
   "source": [
    "new_list = original_list[:]"
   ]
  },
  {
   "cell_type": "code",
   "execution_count": 53,
   "id": "6626e37e",
   "metadata": {},
   "outputs": [
    {
     "data": {
      "text/plain": [
       "[34, 23, 45, 34, 90, 34, 23, 5, 39, 97]"
      ]
     },
     "execution_count": 53,
     "metadata": {},
     "output_type": "execute_result"
    }
   ],
   "source": [
    "new_list"
   ]
  },
  {
   "cell_type": "code",
   "execution_count": 54,
   "id": "a1ba1959",
   "metadata": {},
   "outputs": [],
   "source": [
    "new_list1 = []\n",
    "new_list1.extend(original_list)"
   ]
  },
  {
   "cell_type": "code",
   "execution_count": 56,
   "id": "79fa01ac",
   "metadata": {},
   "outputs": [
    {
     "data": {
      "text/plain": [
       "[34, 23, 45, 34, 90, 34, 23, 5, 39, 97, 23]"
      ]
     },
     "execution_count": 56,
     "metadata": {},
     "output_type": "execute_result"
    }
   ],
   "source": [
    "new_list1"
   ]
  },
  {
   "cell_type": "code",
   "execution_count": null,
   "id": "0baeb124",
   "metadata": {},
   "outputs": [],
   "source": [
    "11. Write a Python program to Count occurrences of an element in a list?"
   ]
  },
  {
   "cell_type": "code",
   "execution_count": 73,
   "id": "1f0babce",
   "metadata": {},
   "outputs": [],
   "source": [
    "list2 = [34, 23, 45, 34, 90, 34, 23, 5, 39, 97]"
   ]
  },
  {
   "cell_type": "code",
   "execution_count": 74,
   "id": "7af8db74",
   "metadata": {},
   "outputs": [],
   "source": [
    "set1 = set(list2)"
   ]
  },
  {
   "cell_type": "code",
   "execution_count": 90,
   "id": "7d44da72",
   "metadata": {},
   "outputs": [
    {
     "data": {
      "text/plain": [
       "{5, 23, 34, 39, 45, 90, 97}"
      ]
     },
     "execution_count": 90,
     "metadata": {},
     "output_type": "execute_result"
    }
   ],
   "source": [
    "set1"
   ]
  },
  {
   "cell_type": "code",
   "execution_count": 82,
   "id": "a5c194dc",
   "metadata": {},
   "outputs": [],
   "source": [
    "list_set = [i for i in set1]"
   ]
  },
  {
   "cell_type": "code",
   "execution_count": 102,
   "id": "f07e4b9c",
   "metadata": {},
   "outputs": [
    {
     "name": "stdout",
     "output_type": "stream",
     "text": [
      "1\n",
      "3\n",
      "1\n",
      "1\n",
      "1\n",
      "2\n"
     ]
    }
   ],
   "source": [
    "for i in range (0, len(list_set)-1):\n",
    "    print(list.count(list_set[i]))"
   ]
  }
 ],
 "metadata": {
  "kernelspec": {
   "display_name": "Python 3 (ipykernel)",
   "language": "python",
   "name": "python3"
  },
  "language_info": {
   "codemirror_mode": {
    "name": "ipython",
    "version": 3
   },
   "file_extension": ".py",
   "mimetype": "text/x-python",
   "name": "python",
   "nbconvert_exporter": "python",
   "pygments_lexer": "ipython3",
   "version": "3.9.12"
  }
 },
 "nbformat": 4,
 "nbformat_minor": 5
}
