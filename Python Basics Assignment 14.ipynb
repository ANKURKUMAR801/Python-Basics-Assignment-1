{
 "cells": [
  {
   "cell_type": "markdown",
   "id": "c1da62ab",
   "metadata": {},
   "source": [
    " 1. What does RGBA stand for?"
   ]
  },
  {
   "cell_type": "markdown",
   "id": "b52e2f74",
   "metadata": {},
   "source": [
    "Red, Blue, Green, Alpha"
   ]
  },
  {
   "cell_type": "markdown",
   "id": "1a7bc5bd",
   "metadata": {},
   "source": [
    "2. From the Pillow module, how do you get the RGBA value of any images?"
   ]
  },
  {
   "cell_type": "code",
   "execution_count": 1,
   "id": "ff8bc60b",
   "metadata": {},
   "outputs": [
    {
     "name": "stdout",
     "output_type": "stream",
     "text": [
      "<ImagingCore object at 0x00000138D92DACB0>\n"
     ]
    }
   ],
   "source": [
    "from PIL import Image\n",
    "\n",
    "img = Image.open('red_color.jpg')\n",
    "rgba = img.convert('RGBA')\n",
    "datas = rgba.getdata()\n",
    "\n",
    "print(datas)"
   ]
  },
  {
   "cell_type": "markdown",
   "id": "e87d7f0f",
   "metadata": {},
   "source": [
    "3. What is a box tuple, and how does it work?"
   ]
  },
  {
   "cell_type": "markdown",
   "id": "6b6cf52c",
   "metadata": {},
   "source": [
    "Box tuple is tuple value of 4 integers: the left edge x-coordinate, the top edge y-coordinate, the width, and the height, respectively. It is generally used to crop a part of a image."
   ]
  },
  {
   "cell_type": "markdown",
   "id": "d345811c",
   "metadata": {},
   "source": [
    "4. Use your image and load in notebook then, How can you find out the width and height of an\n",
    "Image object?"
   ]
  },
  {
   "cell_type": "code",
   "execution_count": 2,
   "id": "888848ba",
   "metadata": {},
   "outputs": [
    {
     "data": {
      "text/plain": [
       "(1993, 1257)"
      ]
     },
     "execution_count": 2,
     "metadata": {},
     "output_type": "execute_result"
    }
   ],
   "source": [
    "from PIL import Image\n",
    "mac1 = Image.open('example.jpg')\n",
    "mac1.size"
   ]
  },
  {
   "cell_type": "markdown",
   "id": "a0a48bfe",
   "metadata": {},
   "source": [
    "5. What method would you call to get Image object for a 100×100 image, excluding the lower-left\n",
    "quarter of it?"
   ]
  },
  {
   "cell_type": "code",
   "execution_count": 10,
   "id": "4f778731",
   "metadata": {},
   "outputs": [],
   "source": [
    "red = Image.open('red_color.jpg')"
   ]
  },
  {
   "cell_type": "code",
   "execution_count": 12,
   "id": "62a65d16",
   "metadata": {},
   "outputs": [],
   "source": [
    "red.crop((0, 50, 50, 50))"
   ]
  },
  {
   "cell_type": "code",
   "execution_count": 15,
   "id": "26b4fa0d",
   "metadata": {},
   "outputs": [
    {
     "data": {
      "image/png": "[encoded data removed]",
      "text/plain": [
       "<PIL.JpegImagePlugin.JpegImageFile image mode=RGB size=200x200 at 0x138DADCBE50>"
      ]
     },
     "execution_count": 15,
     "metadata": {},
     "output_type": "execute_result"
    }
   ],
   "source": [
    "red"
   ]
  },
  {
   "cell_type": "markdown",
   "id": "52ba0671",
   "metadata": {},
   "source": [
    "6. After making changes to an Image object, how could you save it as an image file?"
   ]
  },
  {
   "cell_type": "code",
   "execution_count": null,
   "id": "6f4ef866",
   "metadata": {},
   "outputs": [],
   "source": [
    "image_object.save('file_name.jpg')"
   ]
  },
  {
   "cell_type": "markdown",
   "id": "54e86e45",
   "metadata": {},
   "source": [
    "7. What module contains Pillow’s shape-drawing code?"
   ]
  },
  {
   "cell_type": "code",
   "execution_count": null,
   "id": "fd592a61",
   "metadata": {},
   "outputs": [],
   "source": [
    "The ImageDraw module contains code to draw on images"
   ]
  },
  {
   "cell_type": "markdown",
   "id": "b44b9dcd",
   "metadata": {},
   "source": [
    "8. Image objects do not have drawing methods. What kind of object does? How do you get this kind\n",
    "of object?"
   ]
  },
  {
   "cell_type": "code",
   "execution_count": null,
   "id": "56621e84",
   "metadata": {},
   "outputs": [],
   "source": [
    "ImageDraw has drawing methods like .size(), .line(). They are returned by passing ImageDraw.Draw()"
   ]
  },
  {
   "cell_type": "code",
   "execution_count": null,
   "id": "e65ef28b",
   "metadata": {},
   "outputs": [],
   "source": []
  }
 ],
 "metadata": {
  "kernelspec": {
   "display_name": "Python 3 (ipykernel)",
   "language": "python",
   "name": "python3"
  },
  "language_info": {
   "codemirror_mode": {
    "name": "ipython",
    "version": 3
   },
   "file_extension": ".py",
   "mimetype": "text/x-python",
   "name": "python",
   "nbconvert_exporter": "python",
   "pygments_lexer": "ipython3",
   "version": "3.9.12"
  }
 },
 "nbformat": 4,
 "nbformat_minor": 5
}
